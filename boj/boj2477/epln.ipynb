{
  "nbformat": 4,
  "nbformat_minor": 0,
  "metadata": {
    "colab": {
      "provenance": []
    },
    "kernelspec": {
      "name": "python3",
      "display_name": "Python 3"
    },
    "language_info": {
      "name": "python"
    }
  },
  "cells": [
    {
      "cell_type": "markdown",
      "source": [
        "동서방향과 남북방향을 나누어서 생각!\n",
        "\n",
        "1. 동서(wid) 최대의 인덱스와 남북(hei) 최대의 인덱스를 구한다.\n",
        "1. 그 인덱스를 기반으로 각각 안쪽으로 들어간 부분의 인덱스를 구한다."
      ],
      "metadata": {
        "id": "tGXCCbS6aWJq"
      }
    },
    {
      "cell_type": "code",
      "execution_count": null,
      "metadata": {
        "id": "lxpC-fFiXSZG"
      },
      "outputs": [],
      "source": [
        "if hexa[0][0] <= 2:\n",
        "    max_widx = 0\n",
        "    max_hidx = 1\n",
        "else:\n",
        "    max_widx = 1\n",
        "    max_hidx = 0"
      ]
    },
    {
      "cell_type": "markdown",
      "source": [
        "wid와 hei의 최대를 찾기 위해\n",
        "각각 초기값 인덱스를 지정하였다.\n",
        "- 제시된 배열의 첫번째가 동서면 **wid 인덱스**를 0\n",
        "- 첫번째가 남북이면 **hei 인덱스**를 0\n",
        "\n",
        "*둘을 나누지 않으면 오류 발생!*"
      ],
      "metadata": {
        "id": "HRmB20CYa02y"
      }
    },
    {
      "cell_type": "code",
      "source": [
        "for i in range(6):\n",
        "    if hexa[i][0] <= 2:\n",
        "        if hexa[max_widx][1] < hexa[i][1]:\n",
        "            max_widx = i\n",
        "    else:\n",
        "        if hexa[max_hidx][1] < hexa[i][1]:\n",
        "            max_hidx = i"
      ],
      "metadata": {
        "id": "x9QLNbyCb9nh"
      },
      "execution_count": null,
      "outputs": []
    },
    {
      "cell_type": "markdown",
      "source": [
        "0열 숫자가 2이하면 동서방향이므로 wid를 갱신<br>\n",
        "그 외면 hei를 갱신"
      ],
      "metadata": {
        "id": "oKiI4F0Jmp0n"
      }
    },
    {
      "cell_type": "markdown",
      "source": [
        "![참외.PNG](data:image/png;base64,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)"
      ],
      "metadata": {
        "id": "2WPZfVKezkJ-"
      }
    },
    {
      "cell_type": "markdown",
      "source": [
        "반시계방향으로 회전할 때,\n",
        "안쪽의 경우\n",
        "- 동서방향 안쪽은 남북 최대 인덱스의 +3\n",
        "- 남북방향 안쪽도 동서 최대 인덱스의 +3\n",
        "\n",
        "인덱스가 5를 넘어갈 경우 6으로 나눈 나머지 사용!"
      ],
      "metadata": {
        "id": "sUiz5S0NAh3T"
      }
    },
    {
      "cell_type": "code",
      "source": [
        "in_widx = (max_hidx + 3) % 6\n",
        "in_hidx = (max_widx + 3) % 6"
      ],
      "metadata": {
        "id": "r_88yezEA3fM"
      },
      "execution_count": null,
      "outputs": []
    }
  ]
}